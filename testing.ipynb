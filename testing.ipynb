{
 "cells": [
  {
   "cell_type": "code",
   "execution_count": 1,
   "metadata": {},
   "outputs": [],
   "source": [
    "import pandas as pd "
   ]
  },
  {
   "cell_type": "code",
   "execution_count": 2,
   "metadata": {},
   "outputs": [],
   "source": [
    "df = pd.read_parquet(\"train-00000-of-00001-8b6e212f3e1ece96.parquet\")"
   ]
  },
  {
   "cell_type": "code",
   "execution_count": 3,
   "metadata": {},
   "outputs": [
    {
     "data": {
      "text/html": [
       "<div>\n",
       "<style scoped>\n",
       "    .dataframe tbody tr th:only-of-type {\n",
       "        vertical-align: middle;\n",
       "    }\n",
       "\n",
       "    .dataframe tbody tr th {\n",
       "        vertical-align: top;\n",
       "    }\n",
       "\n",
       "    .dataframe thead th {\n",
       "        text-align: right;\n",
       "    }\n",
       "</style>\n",
       "<table border=\"1\" class=\"dataframe\">\n",
       "  <thead>\n",
       "    <tr style=\"text-align: right;\">\n",
       "      <th></th>\n",
       "      <th>instruction</th>\n",
       "      <th>input</th>\n",
       "      <th>output</th>\n",
       "      <th>prompt</th>\n",
       "    </tr>\n",
       "  </thead>\n",
       "  <tbody>\n",
       "    <tr>\n",
       "      <th>0</th>\n",
       "      <td>Create a function to calculate the sum of a se...</td>\n",
       "      <td>[1, 2, 3, 4, 5]</td>\n",
       "      <td># Python code\\ndef sum_sequence(sequence):\\n  ...</td>\n",
       "      <td>Below is an instruction that describes a task....</td>\n",
       "    </tr>\n",
       "    <tr>\n",
       "      <th>1</th>\n",
       "      <td>Generate a Python code for crawling a website ...</td>\n",
       "      <td>website: www.example.com \\ndata to crawl: phon...</td>\n",
       "      <td>import requests\\nimport re\\n\\ndef crawl_websit...</td>\n",
       "      <td>Below is an instruction that describes a task....</td>\n",
       "    </tr>\n",
       "    <tr>\n",
       "      <th>2</th>\n",
       "      <td>Create a Python list comprehension to get the ...</td>\n",
       "      <td></td>\n",
       "      <td>[x*x for x in [1, 2, 3, 5, 8, 13]]</td>\n",
       "      <td>Below is an instruction that describes a task....</td>\n",
       "    </tr>\n",
       "    <tr>\n",
       "      <th>3</th>\n",
       "      <td>Generate a python script to perform this action.</td>\n",
       "      <td>Given a string, remove all the consecutive dup...</td>\n",
       "      <td>def remove_duplicates(string): \\n    result = ...</td>\n",
       "      <td>Below is an instruction that describes a task....</td>\n",
       "    </tr>\n",
       "    <tr>\n",
       "      <th>4</th>\n",
       "      <td>Write a python script to generates random numb...</td>\n",
       "      <td></td>\n",
       "      <td>def generate_random_divisible_number():\\n    i...</td>\n",
       "      <td>Below is an instruction that describes a task....</td>\n",
       "    </tr>\n",
       "  </tbody>\n",
       "</table>\n",
       "</div>"
      ],
      "text/plain": [
       "                                         instruction  \\\n",
       "0  Create a function to calculate the sum of a se...   \n",
       "1  Generate a Python code for crawling a website ...   \n",
       "2  Create a Python list comprehension to get the ...   \n",
       "3   Generate a python script to perform this action.   \n",
       "4  Write a python script to generates random numb...   \n",
       "\n",
       "                                               input  \\\n",
       "0                                    [1, 2, 3, 4, 5]   \n",
       "1  website: www.example.com \\ndata to crawl: phon...   \n",
       "2                                                      \n",
       "3  Given a string, remove all the consecutive dup...   \n",
       "4                                                      \n",
       "\n",
       "                                              output  \\\n",
       "0  # Python code\\ndef sum_sequence(sequence):\\n  ...   \n",
       "1  import requests\\nimport re\\n\\ndef crawl_websit...   \n",
       "2                 [x*x for x in [1, 2, 3, 5, 8, 13]]   \n",
       "3  def remove_duplicates(string): \\n    result = ...   \n",
       "4  def generate_random_divisible_number():\\n    i...   \n",
       "\n",
       "                                              prompt  \n",
       "0  Below is an instruction that describes a task....  \n",
       "1  Below is an instruction that describes a task....  \n",
       "2  Below is an instruction that describes a task....  \n",
       "3  Below is an instruction that describes a task....  \n",
       "4  Below is an instruction that describes a task....  "
      ]
     },
     "execution_count": 3,
     "metadata": {},
     "output_type": "execute_result"
    }
   ],
   "source": [
    "df.head()"
   ]
  },
  {
   "cell_type": "code",
   "execution_count": 10,
   "metadata": {},
   "outputs": [],
   "source": [
    "df[\"text\"] = df['instruction'].astype(str) + \" \" + df['input'].astype(str) + \" \" + df['output'].astype(str) "
   ]
  },
  {
   "cell_type": "code",
   "execution_count": 11,
   "metadata": {},
   "outputs": [
    {
     "data": {
      "text/plain": [
       "'Create a function to calculate the sum of a sequence of integers. [1, 2, 3, 4, 5] # Python code\\ndef sum_sequence(sequence):\\n  sum = 0\\n  for num in sequence:\\n    sum += num\\n  return sum'"
      ]
     },
     "execution_count": 11,
     "metadata": {},
     "output_type": "execute_result"
    }
   ],
   "source": [
    "df[\"text\"][0]"
   ]
  },
  {
   "cell_type": "code",
   "execution_count": 13,
   "metadata": {},
   "outputs": [
    {
     "name": "stdout",
     "output_type": "stream",
     "text": [
      "Data successfully written to data/alpaca.txt\n"
     ]
    }
   ],
   "source": [
    "output_file_path = 'data/alpaca.txt'\n",
    "\n",
    "# Write each value in the 'text' column to a text file, each on a new line\n",
    "with open(output_file_path, 'w', encoding='utf-8') as file:\n",
    "    for text in df['text']:\n",
    "        file.write(text + '\\n')\n",
    "\n",
    "print(f\"Data successfully written to {output_file_path}\")"
   ]
  },
  {
   "cell_type": "code",
   "execution_count": 9,
   "metadata": {},
   "outputs": [
    {
     "data": {
      "text/plain": [
       "'Instruction: 0        Create a function to calculate the sum of a se...\\n1        Generate a Python code for crawling a website ...\\n2        Create a Python list comprehension to get the ...\\n3         Generate a python script to perform this action.\\n4        Write a python script to generates random numb...\\n                               ...                        \\n18607    Generate a loop in Python which iterates throu...\\n18608    Can you design a function in Python to sort a ...\\n18609    Generate a Python function to search an array ...\\n18610    Develop an HTTP API in Python to retrieve the ...\\n18611    Create a classification algorithm in Python to...\\nName: instruction, Length: 18612, dtype: object  Input: 0        Create a function to calculate the sum of a se...\\n1        Generate a Python code for crawling a website ...\\n2        Create a Python list comprehension to get the ...\\n3         Generate a python script to perform this action.\\n4        Write a python script to generates random numb...\\n                               ...                        \\n18607    Generate a loop in Python which iterates throu...\\n18608    Can you design a function in Python to sort a ...\\n18609    Generate a Python function to search an array ...\\n18610    Develop an HTTP API in Python to retrieve the ...\\n18611    Create a classification algorithm in Python to...\\nName: instruction, Length: 18612, dtype: object  Output: 0        # Python code\\\\ndef sum_sequence(sequence):\\\\n  ...\\n1        import requests\\\\nimport re\\\\n\\\\ndef crawl_websit...\\n2                       [x*x for x in [1, 2, 3, 5, 8, 13]]\\n3        def remove_duplicates(string): \\\\n    result = ...\\n4        def generate_random_divisible_number():\\\\n    i...\\n                               ...                        \\n18607       for value in list_of_values:\\\\n    print(value)\\n18608    def sort_tuple(tuples):\\\\n    # sort by 2nd ite...\\n18609    def search(array, target):\\\\n # Iterate over ar...\\n18610    import requests\\\\nfrom bs4 import BeautifulSoup...\\n18611    # Import Python libraries\\\\nimport numpy as np\\\\...\\nName: output, Length: 18612, dtype: object'"
      ]
     },
     "execution_count": 9,
     "metadata": {},
     "output_type": "execute_result"
    }
   ],
   "source": [
    "df[\"text\"][0]"
   ]
  },
  {
   "cell_type": "code",
   "execution_count": 14,
   "metadata": {},
   "outputs": [],
   "source": [
    "from transformers import AutoTokenizer\n",
    "\n",
    "# Load the tokenizer corresponding to your embedding model\n",
    "tokenizer = AutoTokenizer.from_pretrained('your_model_name')\n",
    "\n",
    "# Path to your text file\n",
    "file_path = 'data/alpaca.txt'\n",
    "\n",
    "# Read the text from the file\n",
    "with open(file_path, 'r', encoding='utf-8') as file:\n",
    "    text = file.read()\n",
    "\n",
    "# Tokenize the text\n",
    "tokens = tokenizer.tokenize(text)\n",
    "\n",
    "# Number of tokens\n",
    "num_tokens = len(tokens)\n",
    "\n",
    "print(f'Number of tokens: {num_tokens}')\n"
   ]
  },
  {
   "cell_type": "code",
   "execution_count": null,
   "metadata": {},
   "outputs": [],
   "source": []
  }
 ],
 "metadata": {
  "kernelspec": {
   "display_name": "streamlit_env",
   "language": "python",
   "name": "python3"
  },
  "language_info": {
   "codemirror_mode": {
    "name": "ipython",
    "version": 3
   },
   "file_extension": ".py",
   "mimetype": "text/x-python",
   "name": "python",
   "nbconvert_exporter": "python",
   "pygments_lexer": "ipython3",
   "version": "3.9.7"
  }
 },
 "nbformat": 4,
 "nbformat_minor": 2
}
